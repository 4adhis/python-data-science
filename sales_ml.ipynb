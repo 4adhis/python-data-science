{
 "cells": [
  {
   "cell_type": "code",
   "execution_count": 56,
   "metadata": {},
   "outputs": [],
   "source": [
    "import pandas as pd\n",
    "import psycopg2 as ps"
   ]
  },
  {
   "cell_type": "code",
   "execution_count": 57,
   "metadata": {},
   "outputs": [
    {
     "name": "stdout",
     "output_type": "stream",
     "text": [
      "connected\n"
     ]
    }
   ],
   "source": [
    "try:\n",
    "    conn = ps.connect(\"dbname='sales_demo_dec' user='postgres' host='localhost' password='123456'\")\n",
    "    print(\"connected\")\n",
    "except:\n",
    "        print(\"I am unable to connect to the database\")"
   ]
  },
  {
   "cell_type": "code",
   "execution_count": 58,
   "metadata": {},
   "outputs": [],
   "source": [
    "#sales_df = pd.read_sql(\"select * from crosstab('select extract(month from created_at)::NUMERIC as months, extract(year from created_at):: NUMERIC as year_of_sale, sum(selling_price * quantity) as sales from sales s join inventories i on s.inv_id = i.id group by months, extract(year from created_at) order by 1') as final_result (months numeric,salesinyear2017 numeric, salesinyear2018 numeric, salesinyear2019 numeric) order by 1;\",conn)"
   ]
  },
  {
   "cell_type": "code",
   "execution_count": 59,
   "metadata": {},
   "outputs": [],
   "source": [
    "new_sales_df = pd.read_sql(\"select sum(i.selling_price*s.quantity) as yearly_sales,extract(year from created_at) as year,sum(s.quantity) as total_quantity,sum(stock) total_stock,count(s.id) total_products_sold,(sum(i.buying_price)/(count(s.id)))buying_price,(sum(i.selling_price)/(count(s.id)))selling_price from sales s join inventories as i on s.inv_id = i.id group by year order BY year asc\",conn)"
   ]
  },
  {
   "cell_type": "code",
   "execution_count": 60,
   "metadata": {},
   "outputs": [
    {
     "data": {
      "text/html": [
       "<div>\n",
       "<style scoped>\n",
       "    .dataframe tbody tr th:only-of-type {\n",
       "        vertical-align: middle;\n",
       "    }\n",
       "\n",
       "    .dataframe tbody tr th {\n",
       "        vertical-align: top;\n",
       "    }\n",
       "\n",
       "    .dataframe thead th {\n",
       "        text-align: right;\n",
       "    }\n",
       "</style>\n",
       "<table border=\"1\" class=\"dataframe\">\n",
       "  <thead>\n",
       "    <tr style=\"text-align: right;\">\n",
       "      <th></th>\n",
       "      <th>yearly_sales</th>\n",
       "      <th>year</th>\n",
       "      <th>total_quantity</th>\n",
       "      <th>total_stock</th>\n",
       "      <th>total_products_sold</th>\n",
       "      <th>buying_price</th>\n",
       "      <th>selling_price</th>\n",
       "    </tr>\n",
       "  </thead>\n",
       "  <tbody>\n",
       "    <tr>\n",
       "      <th>0</th>\n",
       "      <td>67486.4</td>\n",
       "      <td>2009.0</td>\n",
       "      <td>244.0</td>\n",
       "      <td>4700.0</td>\n",
       "      <td>47</td>\n",
       "      <td>533.489362</td>\n",
       "      <td>789.438298</td>\n",
       "    </tr>\n",
       "    <tr>\n",
       "      <th>1</th>\n",
       "      <td>674376.4</td>\n",
       "      <td>2010.0</td>\n",
       "      <td>540.0</td>\n",
       "      <td>10500.0</td>\n",
       "      <td>105</td>\n",
       "      <td>674.180952</td>\n",
       "      <td>1001.062857</td>\n",
       "    </tr>\n",
       "    <tr>\n",
       "      <th>2</th>\n",
       "      <td>535434.4</td>\n",
       "      <td>2011.0</td>\n",
       "      <td>363.0</td>\n",
       "      <td>7700.0</td>\n",
       "      <td>77</td>\n",
       "      <td>885.181818</td>\n",
       "      <td>1317.267532</td>\n",
       "    </tr>\n",
       "    <tr>\n",
       "      <th>3</th>\n",
       "      <td>649027.2</td>\n",
       "      <td>2012.0</td>\n",
       "      <td>551.0</td>\n",
       "      <td>10600.0</td>\n",
       "      <td>106</td>\n",
       "      <td>858.273585</td>\n",
       "      <td>1277.384906</td>\n",
       "    </tr>\n",
       "    <tr>\n",
       "      <th>4</th>\n",
       "      <td>1272111.2</td>\n",
       "      <td>2013.0</td>\n",
       "      <td>526.0</td>\n",
       "      <td>11100.0</td>\n",
       "      <td>111</td>\n",
       "      <td>1182.774775</td>\n",
       "      <td>1764.118919</td>\n",
       "    </tr>\n",
       "    <tr>\n",
       "      <th>5</th>\n",
       "      <td>944629.8</td>\n",
       "      <td>2014.0</td>\n",
       "      <td>520.0</td>\n",
       "      <td>10500.0</td>\n",
       "      <td>105</td>\n",
       "      <td>867.047619</td>\n",
       "      <td>1290.257143</td>\n",
       "    </tr>\n",
       "    <tr>\n",
       "      <th>6</th>\n",
       "      <td>1029190.8</td>\n",
       "      <td>2015.0</td>\n",
       "      <td>503.0</td>\n",
       "      <td>9800.0</td>\n",
       "      <td>98</td>\n",
       "      <td>1321.581633</td>\n",
       "      <td>1972.877551</td>\n",
       "    </tr>\n",
       "    <tr>\n",
       "      <th>7</th>\n",
       "      <td>1231019.0</td>\n",
       "      <td>2016.0</td>\n",
       "      <td>480.0</td>\n",
       "      <td>9800.0</td>\n",
       "      <td>98</td>\n",
       "      <td>1314.612245</td>\n",
       "      <td>1963.191837</td>\n",
       "    </tr>\n",
       "    <tr>\n",
       "      <th>8</th>\n",
       "      <td>242662.6</td>\n",
       "      <td>2017.0</td>\n",
       "      <td>421.0</td>\n",
       "      <td>9500.0</td>\n",
       "      <td>95</td>\n",
       "      <td>949.084211</td>\n",
       "      <td>1413.223158</td>\n",
       "    </tr>\n",
       "    <tr>\n",
       "      <th>9</th>\n",
       "      <td>969301.4</td>\n",
       "      <td>2018.0</td>\n",
       "      <td>496.0</td>\n",
       "      <td>9100.0</td>\n",
       "      <td>91</td>\n",
       "      <td>981.505495</td>\n",
       "      <td>1462.327473</td>\n",
       "    </tr>\n",
       "    <tr>\n",
       "      <th>10</th>\n",
       "      <td>498577.2</td>\n",
       "      <td>2019.0</td>\n",
       "      <td>375.0</td>\n",
       "      <td>6700.0</td>\n",
       "      <td>67</td>\n",
       "      <td>692.701493</td>\n",
       "      <td>1030.005970</td>\n",
       "    </tr>\n",
       "  </tbody>\n",
       "</table>\n",
       "</div>"
      ],
      "text/plain": [
       "    yearly_sales    year  total_quantity  total_stock  total_products_sold  \\\n",
       "0        67486.4  2009.0           244.0       4700.0                   47   \n",
       "1       674376.4  2010.0           540.0      10500.0                  105   \n",
       "2       535434.4  2011.0           363.0       7700.0                   77   \n",
       "3       649027.2  2012.0           551.0      10600.0                  106   \n",
       "4      1272111.2  2013.0           526.0      11100.0                  111   \n",
       "5       944629.8  2014.0           520.0      10500.0                  105   \n",
       "6      1029190.8  2015.0           503.0       9800.0                   98   \n",
       "7      1231019.0  2016.0           480.0       9800.0                   98   \n",
       "8       242662.6  2017.0           421.0       9500.0                   95   \n",
       "9       969301.4  2018.0           496.0       9100.0                   91   \n",
       "10      498577.2  2019.0           375.0       6700.0                   67   \n",
       "\n",
       "    buying_price  selling_price  \n",
       "0     533.489362     789.438298  \n",
       "1     674.180952    1001.062857  \n",
       "2     885.181818    1317.267532  \n",
       "3     858.273585    1277.384906  \n",
       "4    1182.774775    1764.118919  \n",
       "5     867.047619    1290.257143  \n",
       "6    1321.581633    1972.877551  \n",
       "7    1314.612245    1963.191837  \n",
       "8     949.084211    1413.223158  \n",
       "9     981.505495    1462.327473  \n",
       "10    692.701493    1030.005970  "
      ]
     },
     "execution_count": 60,
     "metadata": {},
     "output_type": "execute_result"
    }
   ],
   "source": [
    "new_sales_df"
   ]
  },
  {
   "cell_type": "code",
   "execution_count": 61,
   "metadata": {},
   "outputs": [
    {
     "name": "stdout",
     "output_type": "stream",
     "text": [
      "<class 'pandas.core.frame.DataFrame'>\n",
      "RangeIndex: 11 entries, 0 to 10\n",
      "Data columns (total 7 columns):\n",
      "yearly_sales           11 non-null float64\n",
      "year                   11 non-null float64\n",
      "total_quantity         11 non-null float64\n",
      "total_stock            11 non-null float64\n",
      "total_products_sold    11 non-null int64\n",
      "buying_price           11 non-null float64\n",
      "selling_price          11 non-null float64\n",
      "dtypes: float64(6), int64(1)\n",
      "memory usage: 696.0 bytes\n"
     ]
    }
   ],
   "source": [
    "new_sales_df.info()"
   ]
  },
  {
   "cell_type": "code",
   "execution_count": 62,
   "metadata": {},
   "outputs": [
    {
     "data": {
      "text/plain": [
       "<bound method DataFrame.isna of     yearly_sales    year  total_quantity  total_stock  total_products_sold  \\\n",
       "0        67486.4  2009.0           244.0       4700.0                   47   \n",
       "1       674376.4  2010.0           540.0      10500.0                  105   \n",
       "2       535434.4  2011.0           363.0       7700.0                   77   \n",
       "3       649027.2  2012.0           551.0      10600.0                  106   \n",
       "4      1272111.2  2013.0           526.0      11100.0                  111   \n",
       "5       944629.8  2014.0           520.0      10500.0                  105   \n",
       "6      1029190.8  2015.0           503.0       9800.0                   98   \n",
       "7      1231019.0  2016.0           480.0       9800.0                   98   \n",
       "8       242662.6  2017.0           421.0       9500.0                   95   \n",
       "9       969301.4  2018.0           496.0       9100.0                   91   \n",
       "10      498577.2  2019.0           375.0       6700.0                   67   \n",
       "\n",
       "    buying_price  selling_price  \n",
       "0     533.489362     789.438298  \n",
       "1     674.180952    1001.062857  \n",
       "2     885.181818    1317.267532  \n",
       "3     858.273585    1277.384906  \n",
       "4    1182.774775    1764.118919  \n",
       "5     867.047619    1290.257143  \n",
       "6    1321.581633    1972.877551  \n",
       "7    1314.612245    1963.191837  \n",
       "8     949.084211    1413.223158  \n",
       "9     981.505495    1462.327473  \n",
       "10    692.701493    1030.005970  >"
      ]
     },
     "execution_count": 62,
     "metadata": {},
     "output_type": "execute_result"
    }
   ],
   "source": [
    "new_sales_df.isna"
   ]
  },
  {
   "cell_type": "code",
   "execution_count": 63,
   "metadata": {},
   "outputs": [],
   "source": [
    "x = new_sales_df.iloc[:,1:]"
   ]
  },
  {
   "cell_type": "code",
   "execution_count": 64,
   "metadata": {},
   "outputs": [
    {
     "data": {
      "text/html": [
       "<div>\n",
       "<style scoped>\n",
       "    .dataframe tbody tr th:only-of-type {\n",
       "        vertical-align: middle;\n",
       "    }\n",
       "\n",
       "    .dataframe tbody tr th {\n",
       "        vertical-align: top;\n",
       "    }\n",
       "\n",
       "    .dataframe thead th {\n",
       "        text-align: right;\n",
       "    }\n",
       "</style>\n",
       "<table border=\"1\" class=\"dataframe\">\n",
       "  <thead>\n",
       "    <tr style=\"text-align: right;\">\n",
       "      <th></th>\n",
       "      <th>year</th>\n",
       "      <th>total_quantity</th>\n",
       "      <th>total_stock</th>\n",
       "      <th>total_products_sold</th>\n",
       "      <th>buying_price</th>\n",
       "      <th>selling_price</th>\n",
       "    </tr>\n",
       "  </thead>\n",
       "  <tbody>\n",
       "    <tr>\n",
       "      <th>0</th>\n",
       "      <td>2009.0</td>\n",
       "      <td>244.0</td>\n",
       "      <td>4700.0</td>\n",
       "      <td>47</td>\n",
       "      <td>533.489362</td>\n",
       "      <td>789.438298</td>\n",
       "    </tr>\n",
       "    <tr>\n",
       "      <th>1</th>\n",
       "      <td>2010.0</td>\n",
       "      <td>540.0</td>\n",
       "      <td>10500.0</td>\n",
       "      <td>105</td>\n",
       "      <td>674.180952</td>\n",
       "      <td>1001.062857</td>\n",
       "    </tr>\n",
       "    <tr>\n",
       "      <th>2</th>\n",
       "      <td>2011.0</td>\n",
       "      <td>363.0</td>\n",
       "      <td>7700.0</td>\n",
       "      <td>77</td>\n",
       "      <td>885.181818</td>\n",
       "      <td>1317.267532</td>\n",
       "    </tr>\n",
       "    <tr>\n",
       "      <th>3</th>\n",
       "      <td>2012.0</td>\n",
       "      <td>551.0</td>\n",
       "      <td>10600.0</td>\n",
       "      <td>106</td>\n",
       "      <td>858.273585</td>\n",
       "      <td>1277.384906</td>\n",
       "    </tr>\n",
       "    <tr>\n",
       "      <th>4</th>\n",
       "      <td>2013.0</td>\n",
       "      <td>526.0</td>\n",
       "      <td>11100.0</td>\n",
       "      <td>111</td>\n",
       "      <td>1182.774775</td>\n",
       "      <td>1764.118919</td>\n",
       "    </tr>\n",
       "    <tr>\n",
       "      <th>5</th>\n",
       "      <td>2014.0</td>\n",
       "      <td>520.0</td>\n",
       "      <td>10500.0</td>\n",
       "      <td>105</td>\n",
       "      <td>867.047619</td>\n",
       "      <td>1290.257143</td>\n",
       "    </tr>\n",
       "    <tr>\n",
       "      <th>6</th>\n",
       "      <td>2015.0</td>\n",
       "      <td>503.0</td>\n",
       "      <td>9800.0</td>\n",
       "      <td>98</td>\n",
       "      <td>1321.581633</td>\n",
       "      <td>1972.877551</td>\n",
       "    </tr>\n",
       "    <tr>\n",
       "      <th>7</th>\n",
       "      <td>2016.0</td>\n",
       "      <td>480.0</td>\n",
       "      <td>9800.0</td>\n",
       "      <td>98</td>\n",
       "      <td>1314.612245</td>\n",
       "      <td>1963.191837</td>\n",
       "    </tr>\n",
       "    <tr>\n",
       "      <th>8</th>\n",
       "      <td>2017.0</td>\n",
       "      <td>421.0</td>\n",
       "      <td>9500.0</td>\n",
       "      <td>95</td>\n",
       "      <td>949.084211</td>\n",
       "      <td>1413.223158</td>\n",
       "    </tr>\n",
       "    <tr>\n",
       "      <th>9</th>\n",
       "      <td>2018.0</td>\n",
       "      <td>496.0</td>\n",
       "      <td>9100.0</td>\n",
       "      <td>91</td>\n",
       "      <td>981.505495</td>\n",
       "      <td>1462.327473</td>\n",
       "    </tr>\n",
       "    <tr>\n",
       "      <th>10</th>\n",
       "      <td>2019.0</td>\n",
       "      <td>375.0</td>\n",
       "      <td>6700.0</td>\n",
       "      <td>67</td>\n",
       "      <td>692.701493</td>\n",
       "      <td>1030.005970</td>\n",
       "    </tr>\n",
       "  </tbody>\n",
       "</table>\n",
       "</div>"
      ],
      "text/plain": [
       "      year  total_quantity  total_stock  total_products_sold  buying_price  \\\n",
       "0   2009.0           244.0       4700.0                   47    533.489362   \n",
       "1   2010.0           540.0      10500.0                  105    674.180952   \n",
       "2   2011.0           363.0       7700.0                   77    885.181818   \n",
       "3   2012.0           551.0      10600.0                  106    858.273585   \n",
       "4   2013.0           526.0      11100.0                  111   1182.774775   \n",
       "5   2014.0           520.0      10500.0                  105    867.047619   \n",
       "6   2015.0           503.0       9800.0                   98   1321.581633   \n",
       "7   2016.0           480.0       9800.0                   98   1314.612245   \n",
       "8   2017.0           421.0       9500.0                   95    949.084211   \n",
       "9   2018.0           496.0       9100.0                   91    981.505495   \n",
       "10  2019.0           375.0       6700.0                   67    692.701493   \n",
       "\n",
       "    selling_price  \n",
       "0      789.438298  \n",
       "1     1001.062857  \n",
       "2     1317.267532  \n",
       "3     1277.384906  \n",
       "4     1764.118919  \n",
       "5     1290.257143  \n",
       "6     1972.877551  \n",
       "7     1963.191837  \n",
       "8     1413.223158  \n",
       "9     1462.327473  \n",
       "10    1030.005970  "
      ]
     },
     "execution_count": 64,
     "metadata": {},
     "output_type": "execute_result"
    }
   ],
   "source": [
    "x "
   ]
  },
  {
   "cell_type": "code",
   "execution_count": 88,
   "metadata": {},
   "outputs": [],
   "source": [
    "y = new_sales_df[[\"yearly_sales\"]]"
   ]
  },
  {
   "cell_type": "code",
   "execution_count": 89,
   "metadata": {},
   "outputs": [
    {
     "data": {
      "text/html": [
       "<div>\n",
       "<style scoped>\n",
       "    .dataframe tbody tr th:only-of-type {\n",
       "        vertical-align: middle;\n",
       "    }\n",
       "\n",
       "    .dataframe tbody tr th {\n",
       "        vertical-align: top;\n",
       "    }\n",
       "\n",
       "    .dataframe thead th {\n",
       "        text-align: right;\n",
       "    }\n",
       "</style>\n",
       "<table border=\"1\" class=\"dataframe\">\n",
       "  <thead>\n",
       "    <tr style=\"text-align: right;\">\n",
       "      <th></th>\n",
       "      <th>yearly_sales</th>\n",
       "    </tr>\n",
       "  </thead>\n",
       "  <tbody>\n",
       "    <tr>\n",
       "      <th>0</th>\n",
       "      <td>67486.4</td>\n",
       "    </tr>\n",
       "    <tr>\n",
       "      <th>1</th>\n",
       "      <td>674376.4</td>\n",
       "    </tr>\n",
       "    <tr>\n",
       "      <th>2</th>\n",
       "      <td>535434.4</td>\n",
       "    </tr>\n",
       "    <tr>\n",
       "      <th>3</th>\n",
       "      <td>649027.2</td>\n",
       "    </tr>\n",
       "    <tr>\n",
       "      <th>4</th>\n",
       "      <td>1272111.2</td>\n",
       "    </tr>\n",
       "    <tr>\n",
       "      <th>5</th>\n",
       "      <td>944629.8</td>\n",
       "    </tr>\n",
       "    <tr>\n",
       "      <th>6</th>\n",
       "      <td>1029190.8</td>\n",
       "    </tr>\n",
       "    <tr>\n",
       "      <th>7</th>\n",
       "      <td>1231019.0</td>\n",
       "    </tr>\n",
       "    <tr>\n",
       "      <th>8</th>\n",
       "      <td>242662.6</td>\n",
       "    </tr>\n",
       "    <tr>\n",
       "      <th>9</th>\n",
       "      <td>969301.4</td>\n",
       "    </tr>\n",
       "    <tr>\n",
       "      <th>10</th>\n",
       "      <td>498577.2</td>\n",
       "    </tr>\n",
       "  </tbody>\n",
       "</table>\n",
       "</div>"
      ],
      "text/plain": [
       "    yearly_sales\n",
       "0        67486.4\n",
       "1       674376.4\n",
       "2       535434.4\n",
       "3       649027.2\n",
       "4      1272111.2\n",
       "5       944629.8\n",
       "6      1029190.8\n",
       "7      1231019.0\n",
       "8       242662.6\n",
       "9       969301.4\n",
       "10      498577.2"
      ]
     },
     "execution_count": 89,
     "metadata": {},
     "output_type": "execute_result"
    }
   ],
   "source": [
    "y"
   ]
  },
  {
   "cell_type": "code",
   "execution_count": 84,
   "metadata": {},
   "outputs": [],
   "source": [
    "y = new_sales_df.iloc[:,0:1]"
   ]
  },
  {
   "cell_type": "code",
   "execution_count": 85,
   "metadata": {},
   "outputs": [
    {
     "data": {
      "text/html": [
       "<div>\n",
       "<style scoped>\n",
       "    .dataframe tbody tr th:only-of-type {\n",
       "        vertical-align: middle;\n",
       "    }\n",
       "\n",
       "    .dataframe tbody tr th {\n",
       "        vertical-align: top;\n",
       "    }\n",
       "\n",
       "    .dataframe thead th {\n",
       "        text-align: right;\n",
       "    }\n",
       "</style>\n",
       "<table border=\"1\" class=\"dataframe\">\n",
       "  <thead>\n",
       "    <tr style=\"text-align: right;\">\n",
       "      <th></th>\n",
       "      <th>yearly_sales</th>\n",
       "    </tr>\n",
       "  </thead>\n",
       "  <tbody>\n",
       "    <tr>\n",
       "      <th>0</th>\n",
       "      <td>67486.4</td>\n",
       "    </tr>\n",
       "    <tr>\n",
       "      <th>1</th>\n",
       "      <td>674376.4</td>\n",
       "    </tr>\n",
       "    <tr>\n",
       "      <th>2</th>\n",
       "      <td>535434.4</td>\n",
       "    </tr>\n",
       "    <tr>\n",
       "      <th>3</th>\n",
       "      <td>649027.2</td>\n",
       "    </tr>\n",
       "    <tr>\n",
       "      <th>4</th>\n",
       "      <td>1272111.2</td>\n",
       "    </tr>\n",
       "    <tr>\n",
       "      <th>5</th>\n",
       "      <td>944629.8</td>\n",
       "    </tr>\n",
       "    <tr>\n",
       "      <th>6</th>\n",
       "      <td>1029190.8</td>\n",
       "    </tr>\n",
       "    <tr>\n",
       "      <th>7</th>\n",
       "      <td>1231019.0</td>\n",
       "    </tr>\n",
       "    <tr>\n",
       "      <th>8</th>\n",
       "      <td>242662.6</td>\n",
       "    </tr>\n",
       "    <tr>\n",
       "      <th>9</th>\n",
       "      <td>969301.4</td>\n",
       "    </tr>\n",
       "    <tr>\n",
       "      <th>10</th>\n",
       "      <td>498577.2</td>\n",
       "    </tr>\n",
       "  </tbody>\n",
       "</table>\n",
       "</div>"
      ],
      "text/plain": [
       "    yearly_sales\n",
       "0        67486.4\n",
       "1       674376.4\n",
       "2       535434.4\n",
       "3       649027.2\n",
       "4      1272111.2\n",
       "5       944629.8\n",
       "6      1029190.8\n",
       "7      1231019.0\n",
       "8       242662.6\n",
       "9       969301.4\n",
       "10      498577.2"
      ]
     },
     "execution_count": 85,
     "metadata": {},
     "output_type": "execute_result"
    }
   ],
   "source": [
    "y"
   ]
  },
  {
   "cell_type": "code",
   "execution_count": null,
   "metadata": {},
   "outputs": [],
   "source": [
    "from sklearn.linear_model import LinearRegression"
   ]
  },
  {
   "cell_type": "code",
   "execution_count": 90,
   "metadata": {},
   "outputs": [],
   "source": [
    "r = LinearRegression()"
   ]
  },
  {
   "cell_type": "code",
   "execution_count": 91,
   "metadata": {},
   "outputs": [
    {
     "data": {
      "text/plain": [
       "LinearRegression(copy_X=True, fit_intercept=True, n_jobs=1, normalize=False)"
      ]
     },
     "execution_count": 91,
     "metadata": {},
     "output_type": "execute_result"
    }
   ],
   "source": [
    "r.fit(x,y)"
   ]
  },
  {
   "cell_type": "code",
   "execution_count": 95,
   "metadata": {},
   "outputs": [],
   "source": [
    "pickle.dump(r, open('smodel.pkl','wb'))"
   ]
  },
  {
   "cell_type": "code",
   "execution_count": 96,
   "metadata": {},
   "outputs": [],
   "source": [
    "model = pickle.load(open('smodel.pkl','rb'))"
   ]
  },
  {
   "cell_type": "code",
   "execution_count": 99,
   "metadata": {},
   "outputs": [
    {
     "data": {
      "text/plain": [
       "Index(['year', 'total_quantity', 'total_stock', 'total_products_sold',\n",
       "       'buying_price', 'selling_price'],\n",
       "      dtype='object')"
      ]
     },
     "execution_count": 99,
     "metadata": {},
     "output_type": "execute_result"
    }
   ],
   "source": [
    "x.columns"
   ]
  },
  {
   "cell_type": "code",
   "execution_count": 102,
   "metadata": {},
   "outputs": [
    {
     "name": "stdout",
     "output_type": "stream",
     "text": [
      "[[648965.06664468]]\n"
     ]
    }
   ],
   "source": [
    "print(model.predict([[2020, 500, 500,100,150,210]]))"
   ]
  },
  {
   "cell_type": "code",
   "execution_count": null,
   "metadata": {},
   "outputs": [],
   "source": []
  },
  {
   "cell_type": "code",
   "execution_count": null,
   "metadata": {},
   "outputs": [],
   "source": []
  },
  {
   "cell_type": "code",
   "execution_count": null,
   "metadata": {},
   "outputs": [],
   "source": []
  },
  {
   "cell_type": "code",
   "execution_count": null,
   "metadata": {},
   "outputs": [],
   "source": []
  },
  {
   "cell_type": "code",
   "execution_count": null,
   "metadata": {},
   "outputs": [],
   "source": []
  },
  {
   "cell_type": "code",
   "execution_count": null,
   "metadata": {},
   "outputs": [],
   "source": []
  },
  {
   "cell_type": "code",
   "execution_count": null,
   "metadata": {},
   "outputs": [],
   "source": []
  },
  {
   "cell_type": "code",
   "execution_count": 67,
   "metadata": {},
   "outputs": [],
   "source": [
    "from sklearn.model_selection import train_test_split"
   ]
  },
  {
   "cell_type": "code",
   "execution_count": 68,
   "metadata": {},
   "outputs": [],
   "source": [
    "x_train, x_test, y_train, y_test = train_test_split(x, y, test_size=0.2)"
   ]
  },
  {
   "cell_type": "code",
   "execution_count": 69,
   "metadata": {
    "scrolled": true
   },
   "outputs": [
    {
     "data": {
      "text/html": [
       "<div>\n",
       "<style scoped>\n",
       "    .dataframe tbody tr th:only-of-type {\n",
       "        vertical-align: middle;\n",
       "    }\n",
       "\n",
       "    .dataframe tbody tr th {\n",
       "        vertical-align: top;\n",
       "    }\n",
       "\n",
       "    .dataframe thead th {\n",
       "        text-align: right;\n",
       "    }\n",
       "</style>\n",
       "<table border=\"1\" class=\"dataframe\">\n",
       "  <thead>\n",
       "    <tr style=\"text-align: right;\">\n",
       "      <th></th>\n",
       "      <th>year</th>\n",
       "      <th>total_quantity</th>\n",
       "      <th>total_stock</th>\n",
       "      <th>total_products_sold</th>\n",
       "      <th>buying_price</th>\n",
       "      <th>selling_price</th>\n",
       "    </tr>\n",
       "  </thead>\n",
       "  <tbody>\n",
       "    <tr>\n",
       "      <th>3</th>\n",
       "      <td>2012.0</td>\n",
       "      <td>551.0</td>\n",
       "      <td>10600.0</td>\n",
       "      <td>106</td>\n",
       "      <td>858.273585</td>\n",
       "      <td>1277.384906</td>\n",
       "    </tr>\n",
       "    <tr>\n",
       "      <th>6</th>\n",
       "      <td>2015.0</td>\n",
       "      <td>503.0</td>\n",
       "      <td>9800.0</td>\n",
       "      <td>98</td>\n",
       "      <td>1321.581633</td>\n",
       "      <td>1972.877551</td>\n",
       "    </tr>\n",
       "    <tr>\n",
       "      <th>7</th>\n",
       "      <td>2016.0</td>\n",
       "      <td>480.0</td>\n",
       "      <td>9800.0</td>\n",
       "      <td>98</td>\n",
       "      <td>1314.612245</td>\n",
       "      <td>1963.191837</td>\n",
       "    </tr>\n",
       "    <tr>\n",
       "      <th>10</th>\n",
       "      <td>2019.0</td>\n",
       "      <td>375.0</td>\n",
       "      <td>6700.0</td>\n",
       "      <td>67</td>\n",
       "      <td>692.701493</td>\n",
       "      <td>1030.005970</td>\n",
       "    </tr>\n",
       "    <tr>\n",
       "      <th>2</th>\n",
       "      <td>2011.0</td>\n",
       "      <td>363.0</td>\n",
       "      <td>7700.0</td>\n",
       "      <td>77</td>\n",
       "      <td>885.181818</td>\n",
       "      <td>1317.267532</td>\n",
       "    </tr>\n",
       "    <tr>\n",
       "      <th>4</th>\n",
       "      <td>2013.0</td>\n",
       "      <td>526.0</td>\n",
       "      <td>11100.0</td>\n",
       "      <td>111</td>\n",
       "      <td>1182.774775</td>\n",
       "      <td>1764.118919</td>\n",
       "    </tr>\n",
       "    <tr>\n",
       "      <th>8</th>\n",
       "      <td>2017.0</td>\n",
       "      <td>421.0</td>\n",
       "      <td>9500.0</td>\n",
       "      <td>95</td>\n",
       "      <td>949.084211</td>\n",
       "      <td>1413.223158</td>\n",
       "    </tr>\n",
       "    <tr>\n",
       "      <th>9</th>\n",
       "      <td>2018.0</td>\n",
       "      <td>496.0</td>\n",
       "      <td>9100.0</td>\n",
       "      <td>91</td>\n",
       "      <td>981.505495</td>\n",
       "      <td>1462.327473</td>\n",
       "    </tr>\n",
       "  </tbody>\n",
       "</table>\n",
       "</div>"
      ],
      "text/plain": [
       "      year  total_quantity  total_stock  total_products_sold  buying_price  \\\n",
       "3   2012.0           551.0      10600.0                  106    858.273585   \n",
       "6   2015.0           503.0       9800.0                   98   1321.581633   \n",
       "7   2016.0           480.0       9800.0                   98   1314.612245   \n",
       "10  2019.0           375.0       6700.0                   67    692.701493   \n",
       "2   2011.0           363.0       7700.0                   77    885.181818   \n",
       "4   2013.0           526.0      11100.0                  111   1182.774775   \n",
       "8   2017.0           421.0       9500.0                   95    949.084211   \n",
       "9   2018.0           496.0       9100.0                   91    981.505495   \n",
       "\n",
       "    selling_price  \n",
       "3     1277.384906  \n",
       "6     1972.877551  \n",
       "7     1963.191837  \n",
       "10    1030.005970  \n",
       "2     1317.267532  \n",
       "4     1764.118919  \n",
       "8     1413.223158  \n",
       "9     1462.327473  "
      ]
     },
     "execution_count": 69,
     "metadata": {},
     "output_type": "execute_result"
    }
   ],
   "source": [
    "x_train"
   ]
  },
  {
   "cell_type": "code",
   "execution_count": 70,
   "metadata": {},
   "outputs": [
    {
     "data": {
      "text/html": [
       "<div>\n",
       "<style scoped>\n",
       "    .dataframe tbody tr th:only-of-type {\n",
       "        vertical-align: middle;\n",
       "    }\n",
       "\n",
       "    .dataframe tbody tr th {\n",
       "        vertical-align: top;\n",
       "    }\n",
       "\n",
       "    .dataframe thead th {\n",
       "        text-align: right;\n",
       "    }\n",
       "</style>\n",
       "<table border=\"1\" class=\"dataframe\">\n",
       "  <thead>\n",
       "    <tr style=\"text-align: right;\">\n",
       "      <th></th>\n",
       "      <th>year</th>\n",
       "      <th>total_quantity</th>\n",
       "      <th>total_stock</th>\n",
       "      <th>total_products_sold</th>\n",
       "      <th>buying_price</th>\n",
       "      <th>selling_price</th>\n",
       "    </tr>\n",
       "  </thead>\n",
       "  <tbody>\n",
       "    <tr>\n",
       "      <th>5</th>\n",
       "      <td>2014.0</td>\n",
       "      <td>520.0</td>\n",
       "      <td>10500.0</td>\n",
       "      <td>105</td>\n",
       "      <td>867.047619</td>\n",
       "      <td>1290.257143</td>\n",
       "    </tr>\n",
       "    <tr>\n",
       "      <th>0</th>\n",
       "      <td>2009.0</td>\n",
       "      <td>244.0</td>\n",
       "      <td>4700.0</td>\n",
       "      <td>47</td>\n",
       "      <td>533.489362</td>\n",
       "      <td>789.438298</td>\n",
       "    </tr>\n",
       "    <tr>\n",
       "      <th>1</th>\n",
       "      <td>2010.0</td>\n",
       "      <td>540.0</td>\n",
       "      <td>10500.0</td>\n",
       "      <td>105</td>\n",
       "      <td>674.180952</td>\n",
       "      <td>1001.062857</td>\n",
       "    </tr>\n",
       "  </tbody>\n",
       "</table>\n",
       "</div>"
      ],
      "text/plain": [
       "     year  total_quantity  total_stock  total_products_sold  buying_price  \\\n",
       "5  2014.0           520.0      10500.0                  105    867.047619   \n",
       "0  2009.0           244.0       4700.0                   47    533.489362   \n",
       "1  2010.0           540.0      10500.0                  105    674.180952   \n",
       "\n",
       "   selling_price  \n",
       "5    1290.257143  \n",
       "0     789.438298  \n",
       "1    1001.062857  "
      ]
     },
     "execution_count": 70,
     "metadata": {},
     "output_type": "execute_result"
    }
   ],
   "source": [
    "x_test"
   ]
  },
  {
   "cell_type": "code",
   "execution_count": 71,
   "metadata": {},
   "outputs": [],
   "source": [
    "from sklearn.linear_model import LinearRegression"
   ]
  },
  {
   "cell_type": "code",
   "execution_count": 72,
   "metadata": {},
   "outputs": [],
   "source": [
    "lm = LinearRegression()"
   ]
  },
  {
   "cell_type": "code",
   "execution_count": 73,
   "metadata": {},
   "outputs": [],
   "source": [
    "model = lm.fit(x_train,y_train)"
   ]
  },
  {
   "cell_type": "code",
   "execution_count": 74,
   "metadata": {},
   "outputs": [],
   "source": [
    "y_pred = lm.predict(x_test)"
   ]
  },
  {
   "cell_type": "code",
   "execution_count": 75,
   "metadata": {},
   "outputs": [
    {
     "data": {
      "text/plain": [
       "pandas.core.frame.DataFrame"
      ]
     },
     "execution_count": 75,
     "metadata": {},
     "output_type": "execute_result"
    }
   ],
   "source": [
    "type(x_test)"
   ]
  },
  {
   "cell_type": "code",
   "execution_count": 76,
   "metadata": {},
   "outputs": [
    {
     "data": {
      "text/html": [
       "<div>\n",
       "<style scoped>\n",
       "    .dataframe tbody tr th:only-of-type {\n",
       "        vertical-align: middle;\n",
       "    }\n",
       "\n",
       "    .dataframe tbody tr th {\n",
       "        vertical-align: top;\n",
       "    }\n",
       "\n",
       "    .dataframe thead th {\n",
       "        text-align: right;\n",
       "    }\n",
       "</style>\n",
       "<table border=\"1\" class=\"dataframe\">\n",
       "  <thead>\n",
       "    <tr style=\"text-align: right;\">\n",
       "      <th></th>\n",
       "      <th>year</th>\n",
       "      <th>total_quantity</th>\n",
       "      <th>total_stock</th>\n",
       "      <th>total_products_sold</th>\n",
       "      <th>buying_price</th>\n",
       "      <th>selling_price</th>\n",
       "    </tr>\n",
       "  </thead>\n",
       "  <tbody>\n",
       "    <tr>\n",
       "      <th>5</th>\n",
       "      <td>2014.0</td>\n",
       "      <td>520.0</td>\n",
       "      <td>10500.0</td>\n",
       "      <td>105</td>\n",
       "      <td>867.047619</td>\n",
       "      <td>1290.257143</td>\n",
       "    </tr>\n",
       "    <tr>\n",
       "      <th>0</th>\n",
       "      <td>2009.0</td>\n",
       "      <td>244.0</td>\n",
       "      <td>4700.0</td>\n",
       "      <td>47</td>\n",
       "      <td>533.489362</td>\n",
       "      <td>789.438298</td>\n",
       "    </tr>\n",
       "    <tr>\n",
       "      <th>1</th>\n",
       "      <td>2010.0</td>\n",
       "      <td>540.0</td>\n",
       "      <td>10500.0</td>\n",
       "      <td>105</td>\n",
       "      <td>674.180952</td>\n",
       "      <td>1001.062857</td>\n",
       "    </tr>\n",
       "  </tbody>\n",
       "</table>\n",
       "</div>"
      ],
      "text/plain": [
       "     year  total_quantity  total_stock  total_products_sold  buying_price  \\\n",
       "5  2014.0           520.0      10500.0                  105    867.047619   \n",
       "0  2009.0           244.0       4700.0                   47    533.489362   \n",
       "1  2010.0           540.0      10500.0                  105    674.180952   \n",
       "\n",
       "   selling_price  \n",
       "5    1290.257143  \n",
       "0     789.438298  \n",
       "1    1001.062857  "
      ]
     },
     "execution_count": 76,
     "metadata": {},
     "output_type": "execute_result"
    }
   ],
   "source": [
    "x_test"
   ]
  },
  {
   "cell_type": "code",
   "execution_count": 77,
   "metadata": {},
   "outputs": [
    {
     "data": {
      "text/plain": [
       "array([[2014.],\n",
       "       [2009.],\n",
       "       [2010.]])"
      ]
     },
     "execution_count": 77,
     "metadata": {},
     "output_type": "execute_result"
    }
   ],
   "source": [
    "y_pred"
   ]
  },
  {
   "cell_type": "code",
   "execution_count": 78,
   "metadata": {},
   "outputs": [
    {
     "data": {
      "text/html": [
       "<div>\n",
       "<style scoped>\n",
       "    .dataframe tbody tr th:only-of-type {\n",
       "        vertical-align: middle;\n",
       "    }\n",
       "\n",
       "    .dataframe tbody tr th {\n",
       "        vertical-align: top;\n",
       "    }\n",
       "\n",
       "    .dataframe thead th {\n",
       "        text-align: right;\n",
       "    }\n",
       "</style>\n",
       "<table border=\"1\" class=\"dataframe\">\n",
       "  <thead>\n",
       "    <tr style=\"text-align: right;\">\n",
       "      <th></th>\n",
       "      <th>year</th>\n",
       "    </tr>\n",
       "  </thead>\n",
       "  <tbody>\n",
       "    <tr>\n",
       "      <th>5</th>\n",
       "      <td>2014.0</td>\n",
       "    </tr>\n",
       "    <tr>\n",
       "      <th>0</th>\n",
       "      <td>2009.0</td>\n",
       "    </tr>\n",
       "    <tr>\n",
       "      <th>1</th>\n",
       "      <td>2010.0</td>\n",
       "    </tr>\n",
       "  </tbody>\n",
       "</table>\n",
       "</div>"
      ],
      "text/plain": [
       "     year\n",
       "5  2014.0\n",
       "0  2009.0\n",
       "1  2010.0"
      ]
     },
     "execution_count": 78,
     "metadata": {},
     "output_type": "execute_result"
    }
   ],
   "source": [
    "y_test"
   ]
  },
  {
   "cell_type": "code",
   "execution_count": 79,
   "metadata": {},
   "outputs": [
    {
     "data": {
      "text/plain": [
       "LinearRegression(copy_X=True, fit_intercept=True, n_jobs=1, normalize=False)"
      ]
     },
     "execution_count": 79,
     "metadata": {},
     "output_type": "execute_result"
    }
   ],
   "source": [
    "lm.fit(x,y)"
   ]
  },
  {
   "cell_type": "code",
   "execution_count": 80,
   "metadata": {},
   "outputs": [],
   "source": [
    "import pickle"
   ]
  },
  {
   "cell_type": "code",
   "execution_count": 81,
   "metadata": {},
   "outputs": [],
   "source": [
    "pickle.dump(lm, open('model.pkl','wb'))"
   ]
  },
  {
   "cell_type": "code",
   "execution_count": 82,
   "metadata": {},
   "outputs": [],
   "source": [
    "import numpy as np"
   ]
  },
  {
   "cell_type": "code",
   "execution_count": 83,
   "metadata": {
    "scrolled": true
   },
   "outputs": [
    {
     "ename": "AttributeError",
     "evalue": "module 'pandas' has no attribute 'Dataframe'",
     "output_type": "error",
     "traceback": [
      "\u001b[1;31m---------------------------------------------------------------------------\u001b[0m",
      "\u001b[1;31mAttributeError\u001b[0m                            Traceback (most recent call last)",
      "\u001b[1;32m<ipython-input-83-bf538a5e56f0>\u001b[0m in \u001b[0;36m<module>\u001b[1;34m()\u001b[0m\n\u001b[1;32m----> 1\u001b[1;33m \u001b[0mpd\u001b[0m\u001b[1;33m.\u001b[0m\u001b[0mDataframe\u001b[0m\u001b[1;33m\u001b[0m\u001b[0m\n\u001b[0m",
      "\u001b[1;31mAttributeError\u001b[0m: module 'pandas' has no attribute 'Dataframe'"
     ]
    }
   ],
   "source": [
    "pd.Dataframe"
   ]
  },
  {
   "cell_type": "code",
   "execution_count": null,
   "metadata": {},
   "outputs": [],
   "source": [
    "type(x_test)"
   ]
  },
  {
   "cell_type": "code",
   "execution_count": null,
   "metadata": {},
   "outputs": [],
   "source": []
  }
 ],
 "metadata": {
  "kernelspec": {
   "display_name": "Python 3",
   "language": "python",
   "name": "python3"
  },
  "language_info": {
   "codemirror_mode": {
    "name": "ipython",
    "version": 3
   },
   "file_extension": ".py",
   "mimetype": "text/x-python",
   "name": "python",
   "nbconvert_exporter": "python",
   "pygments_lexer": "ipython3",
   "version": "3.7.0"
  }
 },
 "nbformat": 4,
 "nbformat_minor": 2
}
